{
 "cells": [
  {
   "cell_type": "markdown",
   "metadata": {},
   "source": [
    "#### Predict Age of the tree based on its circumference using Linear Regression Model"
   ]
  },
  {
   "cell_type": "markdown",
   "metadata": {},
   "source": [
    "Linear Regression Assumptions:\n",
    "    \n",
    "7 Classical Assumptions of Ordinary Least Squares (OLS) Linear Regression\n",
    "\n",
    "*Ordinary Least Squares (OLS) is the most common estimation method for linear models.As long as \n",
    "the model satisfies the OLS assumptions for linear regression,the coefficients are reliable.\n",
    "\n",
    "*Regression analysis is like other inferential methodologies. Our goal is to draw a random \n",
    "sample from a population and use it to estimate the properties of that population.\n",
    "\n",
    "*In regression analysis, the coefficients in the regression equation are estimates of the \n",
    "actual population parameters. \n",
    "\n",
    "*When your linear regression model satisfies the OLS assumptions, the procedure generates \n",
    "unbiased coefficient estimates that tend to be relatively close to the true population values\n",
    "(minimum variance).\n",
    "\n",
    "The Seven Classical OLS Assumptions\n",
    "\n",
    "Many of these assumptions describe properties of the error term. Unfortunately, the error term \n",
    "is a population value that we’ll never know. Instead, we’ll use the next best thing that is \n",
    "available—the residuals. Residuals are the sample estimate of the error for each observation.\n",
    "\n",
    "Residuals = Observed value – the fitted value\n",
    "\n",
    "When it comes to checking OLS assumptions, assessing the residuals is crucial!\n",
    "\n",
    "*There are seven classical OLS assumptions for linear regression. The first six are mandatory to\n",
    "produce the best estimates. While the quality of the estimates does not depend on the seventh \n",
    "assumption, analysts often evaluate it for other important reasons.\n",
    "\n",
    "OLS Assumption 1: The regression model is LINEAR IN COEFFICIENTS AND THE ERROR TERM\n",
    "    \n",
    "OLS Assumption 2: The error term has a POPULATION MEAN OF ZERO\n",
    "    *The error term is nothing but the variation in the dependent variable that the independent \n",
    "    variables do not explain. Random chance should determine the values of the error term. \n",
    "    For the model to be unbiased, the average value of the error term must equal zero.we want \n",
    "    the expected value of the error to equal zero. If the expected value is +7 rather than zero, \n",
    "    part of the error term is predictable, and we should add that information to the regression \n",
    "    model itself. We want only random error left for the error term.\n",
    "       *we don’t need to worry about this assumption when we include the constant in the\n",
    "        regression model because it forces the mean of the residuals to equal zero.\n",
    "\n",
    "OLS Assumption 3:No correlated between the independent variable and the error term.\n",
    "    *If an independent variable is correlated with the error term, we can use the independent \n",
    "    variable to predict the error term, which violates the fact that the error term represents \n",
    "    unpredictable random error.his assumption is also referred to as exogeneity. When this type \n",
    "    of correlation exists, there is endogeneity. Violations of this assumption can occur when \n",
    "    there is measurement error in the independent variables.\n",
    "\n",
    "OLS Assumption 4:No correlation within the error term.\n",
    "    *One observation of the error term should not predict the next observation of the error term.\n",
    "    This problem is known both as serial correlation and autocorrelation. Serial correlation is \n",
    "    most likely to occur in time series models. if you have information that allows you to \n",
    "    predict the error term for an observation, you must incorporate that information into the \n",
    "    model itself. To resolve this issue, you might need to add an independent variable to the \n",
    "    model that captures this information. Analysts commonly use distributed lag models, which \n",
    "    use both current values of the dependent variable and past values of independent variables.\n",
    "    \n",
    "OLS Assumption 5: The error term has constant variance - Homoscedastic in nature\n",
    "    (no heteroscedasticity)\n",
    "    *The variance of the errors should be consistent for all observations. In other words, \n",
    "    the variance does not change for each observation or for a range of observations. This \n",
    "    preferred condition is known as homoscedasticity (same scatter). If the variance changes, \n",
    "    we refer to that as heteroscedasticity (different scatter).\n",
    "\n",
    "    *The easiest way to check this assumption is to create a residuals versus fitted \n",
    "    value(y_predict) plot.\n",
    "    On this type of graph, heteroscedasticity appears as a cone shape where the spread of the \n",
    "    residuals increases in one direction.\n",
    "    \n",
    "    *When assumption 4 (no autocorrelation) and 5 (homoscedasticity) are both true, statisticians\n",
    "    say that the error term is independent and identically distributed (IID) and refer to them \n",
    "    as spherical errors.\n",
    "    \n",
    "OLS Assumption 6: No independent variable is a perfect linear function of other explanatory \n",
    "    variables.No Correlation within the independent variables.\n",
    "    *Perfect correlation occurs when two variables have a Pearson’s correlation coefficient of +1\n",
    "    or -1. When one of the variables changes, the other variable also changes by a completely \n",
    "    fixed proportion.\n",
    "    \n",
    "    *Perfect correlation suggests that two variables are different forms of the same variable.For\n",
    "    example, games won and games lost have a perfect negative correlation (-1). The temperature \n",
    "    in Fahrenheit and Celsius have a perfect positive correlation (+1).\n",
    "\n",
    "    *Ordinary least squares cannot distinguish one variable from the other when they are \n",
    "    perfectly correlated. If you specify a model that contains independent variables with \n",
    "    perfect correlation, your statistical software can’t fit the model, and it will display an\n",
    "    error message. You must remove one of the variables from the model to proceed.Statisticians\n",
    "    refer to this condition as multicollinearity, and it reduces the precision of the estimates\n",
    "    in OLS linear regression.\n",
    "    \n",
    "OLS Assumption 7: The error term is normally distributed (optional)\n",
    "    *OLS does not require that the error term follows a normal distribution to produce unbiased \n",
    "    estimates with the minimum variance. However, satisfying this assumption allows you to \n",
    "    perform statistical hypothesis testing and generate reliable confidence intervals and \n",
    "    prediction intervals.\n",
    "\n",
    "    *The easiest way to determine whether the residuals follow a normal distribution is to \n",
    "    assess a normal probability plot. If the residuals follow the straight line on this type \n",
    "    of graph, they are normally distributed.    \n",
    "    \n",
    "    "
   ]
  },
  {
   "cell_type": "markdown",
   "metadata": {},
   "source": [
    "Import Libraries"
   ]
  },
  {
   "cell_type": "code",
   "execution_count": 1,
   "metadata": {
    "scrolled": true
   },
   "outputs": [],
   "source": [
    "import numpy as np\n",
    "import pandas as pd\n",
    "import matplotlib.pyplot as plt\n",
    "import seaborn as sns\n",
    "import warnings\n",
    "warnings.filterwarnings('ignore')"
   ]
  },
  {
   "cell_type": "code",
   "execution_count": 2,
   "metadata": {},
   "outputs": [],
   "source": [
    "%matplotlib inline\n",
    "%config IPCompleter.greedy=True\n",
    "from IPython.core.interactiveshell import InteractiveShell\n",
    "InteractiveShell.ast_node_interactivity='all'\n",
    "plt.rcParams['figure.figsize']=(4,4)"
   ]
  },
  {
   "cell_type": "markdown",
   "metadata": {},
   "source": [
    "Load Dataset"
   ]
  },
  {
   "cell_type": "code",
   "execution_count": 3,
   "metadata": {},
   "outputs": [],
   "source": [
    "data=pd.read_csv(r\"https://raw.githubusercontent.com/manishanker/Statistics_ML_26Aug/master/doubts/orange_dataset.csv\")\n",
    "df=data.iloc[:,1:4]\n"
   ]
  },
  {
   "cell_type": "code",
   "execution_count": 4,
   "metadata": {},
   "outputs": [
    {
     "data": {
      "text/html": [
       "<div>\n",
       "<style scoped>\n",
       "    .dataframe tbody tr th:only-of-type {\n",
       "        vertical-align: middle;\n",
       "    }\n",
       "\n",
       "    .dataframe tbody tr th {\n",
       "        vertical-align: top;\n",
       "    }\n",
       "\n",
       "    .dataframe thead th {\n",
       "        text-align: right;\n",
       "    }\n",
       "</style>\n",
       "<table border=\"1\" class=\"dataframe\">\n",
       "  <thead>\n",
       "    <tr style=\"text-align: right;\">\n",
       "      <th></th>\n",
       "      <th>Tree</th>\n",
       "      <th>age</th>\n",
       "      <th>circumference</th>\n",
       "    </tr>\n",
       "  </thead>\n",
       "  <tbody>\n",
       "    <tr>\n",
       "      <th>0</th>\n",
       "      <td>1</td>\n",
       "      <td>118</td>\n",
       "      <td>30</td>\n",
       "    </tr>\n",
       "    <tr>\n",
       "      <th>1</th>\n",
       "      <td>1</td>\n",
       "      <td>484</td>\n",
       "      <td>58</td>\n",
       "    </tr>\n",
       "    <tr>\n",
       "      <th>2</th>\n",
       "      <td>1</td>\n",
       "      <td>664</td>\n",
       "      <td>87</td>\n",
       "    </tr>\n",
       "    <tr>\n",
       "      <th>3</th>\n",
       "      <td>1</td>\n",
       "      <td>1004</td>\n",
       "      <td>115</td>\n",
       "    </tr>\n",
       "    <tr>\n",
       "      <th>4</th>\n",
       "      <td>1</td>\n",
       "      <td>1231</td>\n",
       "      <td>120</td>\n",
       "    </tr>\n",
       "  </tbody>\n",
       "</table>\n",
       "</div>"
      ],
      "text/plain": [
       "   Tree   age  circumference\n",
       "0     1   118             30\n",
       "1     1   484             58\n",
       "2     1   664             87\n",
       "3     1  1004            115\n",
       "4     1  1231            120"
      ]
     },
     "execution_count": 4,
     "metadata": {},
     "output_type": "execute_result"
    }
   ],
   "source": [
    "df.head()"
   ]
  },
  {
   "cell_type": "code",
   "execution_count": 5,
   "metadata": {},
   "outputs": [
    {
     "data": {
      "text/plain": [
       "(35, 3)"
      ]
     },
     "execution_count": 5,
     "metadata": {},
     "output_type": "execute_result"
    }
   ],
   "source": [
    "df.shape"
   ]
  },
  {
   "cell_type": "code",
   "execution_count": 6,
   "metadata": {},
   "outputs": [
    {
     "data": {
      "text/plain": [
       "Tree             0\n",
       "age              0\n",
       "circumference    0\n",
       "dtype: int64"
      ]
     },
     "execution_count": 6,
     "metadata": {},
     "output_type": "execute_result"
    }
   ],
   "source": [
    "df.isna().sum()"
   ]
  },
  {
   "cell_type": "code",
   "execution_count": 7,
   "metadata": {},
   "outputs": [
    {
     "data": {
      "text/html": [
       "<div>\n",
       "<style scoped>\n",
       "    .dataframe tbody tr th:only-of-type {\n",
       "        vertical-align: middle;\n",
       "    }\n",
       "\n",
       "    .dataframe tbody tr th {\n",
       "        vertical-align: top;\n",
       "    }\n",
       "\n",
       "    .dataframe thead th {\n",
       "        text-align: right;\n",
       "    }\n",
       "</style>\n",
       "<table border=\"1\" class=\"dataframe\">\n",
       "  <thead>\n",
       "    <tr style=\"text-align: right;\">\n",
       "      <th></th>\n",
       "      <th>Tree</th>\n",
       "      <th>age</th>\n",
       "      <th>circumference</th>\n",
       "    </tr>\n",
       "  </thead>\n",
       "  <tbody>\n",
       "    <tr>\n",
       "      <th>count</th>\n",
       "      <td>35.00000</td>\n",
       "      <td>35.000000</td>\n",
       "      <td>35.000000</td>\n",
       "    </tr>\n",
       "    <tr>\n",
       "      <th>mean</th>\n",
       "      <td>3.00000</td>\n",
       "      <td>922.142857</td>\n",
       "      <td>115.857143</td>\n",
       "    </tr>\n",
       "    <tr>\n",
       "      <th>std</th>\n",
       "      <td>1.43486</td>\n",
       "      <td>491.864528</td>\n",
       "      <td>57.488179</td>\n",
       "    </tr>\n",
       "    <tr>\n",
       "      <th>min</th>\n",
       "      <td>1.00000</td>\n",
       "      <td>118.000000</td>\n",
       "      <td>30.000000</td>\n",
       "    </tr>\n",
       "    <tr>\n",
       "      <th>25%</th>\n",
       "      <td>2.00000</td>\n",
       "      <td>484.000000</td>\n",
       "      <td>65.500000</td>\n",
       "    </tr>\n",
       "    <tr>\n",
       "      <th>50%</th>\n",
       "      <td>3.00000</td>\n",
       "      <td>1004.000000</td>\n",
       "      <td>115.000000</td>\n",
       "    </tr>\n",
       "    <tr>\n",
       "      <th>75%</th>\n",
       "      <td>4.00000</td>\n",
       "      <td>1372.000000</td>\n",
       "      <td>161.500000</td>\n",
       "    </tr>\n",
       "    <tr>\n",
       "      <th>max</th>\n",
       "      <td>5.00000</td>\n",
       "      <td>1582.000000</td>\n",
       "      <td>214.000000</td>\n",
       "    </tr>\n",
       "  </tbody>\n",
       "</table>\n",
       "</div>"
      ],
      "text/plain": [
       "           Tree          age  circumference\n",
       "count  35.00000    35.000000      35.000000\n",
       "mean    3.00000   922.142857     115.857143\n",
       "std     1.43486   491.864528      57.488179\n",
       "min     1.00000   118.000000      30.000000\n",
       "25%     2.00000   484.000000      65.500000\n",
       "50%     3.00000  1004.000000     115.000000\n",
       "75%     4.00000  1372.000000     161.500000\n",
       "max     5.00000  1582.000000     214.000000"
      ]
     },
     "execution_count": 7,
     "metadata": {},
     "output_type": "execute_result"
    }
   ],
   "source": [
    "df.describe()"
   ]
  },
  {
   "cell_type": "code",
   "execution_count": 8,
   "metadata": {},
   "outputs": [
    {
     "data": {
      "text/plain": [
       "Index(['Tree', 'age', 'circumference'], dtype='object')"
      ]
     },
     "execution_count": 8,
     "metadata": {},
     "output_type": "execute_result"
    }
   ],
   "source": [
    "df.columns"
   ]
  },
  {
   "cell_type": "markdown",
   "metadata": {},
   "source": [
    "Data Visualize"
   ]
  },
  {
   "cell_type": "code",
   "execution_count": 9,
   "metadata": {},
   "outputs": [
    {
     "data": {
      "text/plain": [
       "<AxesSubplot:xlabel='age', ylabel='circumference'>"
      ]
     },
     "execution_count": 9,
     "metadata": {},
     "output_type": "execute_result"
    },
    {
     "data": {
      "text/plain": [
       "<AxesSubplot:xlabel='age', ylabel='Density'>"
      ]
     },
     "execution_count": 9,
     "metadata": {},
     "output_type": "execute_result"
    },
    {
     "data": {
      "text/plain": [
       "<AxesSubplot:xlabel='circumference', ylabel='Density'>"
      ]
     },
     "execution_count": 9,
     "metadata": {},
     "output_type": "execute_result"
    },
    {
     "data": {
      "text/plain": [
       "<AxesSubplot:xlabel='circumference'>"
      ]
     },
     "execution_count": 9,
     "metadata": {},
     "output_type": "execute_result"
    },
    {
     "data": {
      "text/plain": [
       "<AxesSubplot:xlabel='age'>"
      ]
     },
     "execution_count": 9,
     "metadata": {},
     "output_type": "execute_result"
    },
    {
     "data": {
      "image/png": "[encoded data removed]",
      "text/plain": [
       "<Figure size 1080x576 with 6 Axes>"
      ]
     },
     "metadata": {
      "needs_background": "light"
     },
     "output_type": "display_data"
    }
   ],
   "source": [
    "fig, axes=plt.subplots(2,3,figsize=(15,8))\n",
    "sns.scatterplot(df['age'],df[\"circumference\"],ax=axes[0,0])\n",
    "sns.distplot(df['age'],ax=axes[0,1])\n",
    "sns.distplot(df['circumference'],ax=axes[0,2])\n",
    "sns.boxplot(df['circumference'],ax=axes[1,0])\n",
    "sns.boxplot(df['age'],ax=axes[1,1])"
   ]
  },
  {
   "cell_type": "markdown",
   "metadata": {},
   "source": [
    "Modeling & Evaluation"
   ]
  },
  {
   "cell_type": "code",
   "execution_count": 10,
   "metadata": {},
   "outputs": [],
   "source": [
    "X=np.array(df.iloc[:,2]).reshape(-1,1)\n",
    "y=np.array(df.iloc[:,1]).reshape(-1,1)\n",
    "# y.head()"
   ]
  },
  {
   "cell_type": "code",
   "execution_count": 11,
   "metadata": {},
   "outputs": [
    {
     "data": {
      "text/plain": [
       "(35, 1)"
      ]
     },
     "execution_count": 11,
     "metadata": {},
     "output_type": "execute_result"
    },
    {
     "data": {
      "text/plain": [
       "(35, 1)"
      ]
     },
     "execution_count": 11,
     "metadata": {},
     "output_type": "execute_result"
    }
   ],
   "source": [
    "X.shape\n",
    "y.shape\n"
   ]
  },
  {
   "cell_type": "code",
   "execution_count": 25,
   "metadata": {},
   "outputs": [],
   "source": [
    "from sklearn.linear_model import LinearRegression\n",
    "from sklearn.metrics import mean_squared_error,r2_score\n",
    "from scipy.stats import probplot\n",
    "import pylab"
   ]
  },
  {
   "cell_type": "code",
   "execution_count": 26,
   "metadata": {},
   "outputs": [
    {
     "data": {
      "text/plain": [
       "LinearRegression()"
      ]
     },
     "execution_count": 26,
     "metadata": {},
     "output_type": "execute_result"
    },
    {
     "data": {
      "text/plain": [
       "0.8345166945883684"
      ]
     },
     "execution_count": 26,
     "metadata": {},
     "output_type": "execute_result"
    }
   ],
   "source": [
    "model=LinearRegression()\n",
    "model.fit(X,y)\n",
    "y_pred=model.predict(X)\n",
    "model.score(X,y)\n",
    "residual=2**(y-y_pred)\n",
    "res=pd.Series(residual.flatten())\n",
    "y_pred=pd.Series(y_pred.flatten())\n"
   ]
  },
  {
   "cell_type": "markdown",
   "metadata": {},
   "source": [
    "### Check for Homoscedasticity.Variance remains constant.Residual has zero mean"
   ]
  },
  {
   "cell_type": "code",
   "execution_count": 27,
   "metadata": {},
   "outputs": [
    {
     "data": {
      "text/plain": [
       "<AxesSubplot:>"
      ]
     },
     "execution_count": 27,
     "metadata": {},
     "output_type": "execute_result"
    },
    {
     "data": {
      "image/png": "[encoded data removed]",
      "text/plain": [
       "<Figure size 288x288 with 1 Axes>"
      ]
     },
     "metadata": {
      "needs_background": "light"
     },
     "output_type": "display_data"
    }
   ],
   "source": [
    "sns.scatterplot(y_pred,res)"
   ]
  },
  {
   "cell_type": "code",
   "execution_count": 28,
   "metadata": {},
   "outputs": [
    {
     "name": "stdout",
     "output_type": "stream",
     "text": [
      "MSE: 38891.62301543713\n"
     ]
    }
   ],
   "source": [
    "mse=mean_squared_error(y,y_pred)\n",
    "print('MSE:',mse)"
   ]
  },
  {
   "cell_type": "markdown",
   "metadata": {},
   "source": [
    "### Check for Normality of the residual"
   ]
  },
  {
   "cell_type": "code",
   "execution_count": 29,
   "metadata": {},
   "outputs": [
    {
     "data": {
      "image/png": "[encoded data removed]",
      "text/plain": [
       "<Figure size 288x288 with 1 Axes>"
      ]
     },
     "metadata": {
      "needs_background": "light"
     },
     "output_type": "display_data"
    }
   ],
   "source": [
    "a=probplot(res,dist='norm',plot=pylab)"
   ]
  },
  {
   "cell_type": "markdown",
   "metadata": {},
   "source": [
    "### Validation"
   ]
  },
  {
   "cell_type": "code",
   "execution_count": 30,
   "metadata": {},
   "outputs": [],
   "source": [
    "def age_prediction(circumference):\n",
    "    x=np.zeros(1).reshape(-1,1)\n",
    "    x[0]=circumference\n",
    "    \n",
    "    pred=model.predict(x)\n",
    "    return pred    "
   ]
  },
  {
   "cell_type": "code",
   "execution_count": 31,
   "metadata": {},
   "outputs": [
    {
     "data": {
      "text/plain": [
       "array([[469.9315186]])"
      ]
     },
     "execution_count": 31,
     "metadata": {},
     "output_type": "execute_result"
    }
   ],
   "source": [
    "age_prediction(58)"
   ]
  },
  {
   "cell_type": "markdown",
   "metadata": {},
   "source": [
    "### Using Stats Model"
   ]
  },
  {
   "cell_type": "code",
   "execution_count": 32,
   "metadata": {},
   "outputs": [],
   "source": [
    "import statsmodels.api as sm\n",
    "from statsmodels.api import stats"
   ]
  },
  {
   "cell_type": "markdown",
   "metadata": {},
   "source": [
    "By default, statsmodels fits a line passing through the origin, i.e. it doesn't fit an intercept.\n",
    "Hence, we need to use the command 'add_constant' so that it also fits an intercept"
   ]
  },
  {
   "cell_type": "code",
   "execution_count": 33,
   "metadata": {},
   "outputs": [
    {
     "data": {
      "text/html": [
       "<table class=\"simpletable\">\n",
       "<caption>OLS Regression Results</caption>\n",
       "<tr>\n",
       "  <th>Dep. Variable:</th>           <td>age</td>       <th>  R-squared:         </th> <td>   0.835</td>\n",
       "</tr>\n",
       "<tr>\n",
       "  <th>Model:</th>                   <td>OLS</td>       <th>  Adj. R-squared:    </th> <td>   0.830</td>\n",
       "</tr>\n",
       "<tr>\n",
       "  <th>Method:</th>             <td>Least Squares</td>  <th>  F-statistic:       </th> <td>   166.4</td>\n",
       "</tr>\n",
       "<tr>\n",
       "  <th>Date:</th>             <td>Tue, 26 Oct 2021</td> <th>  Prob (F-statistic):</th> <td>1.93e-14</td>\n",
       "</tr>\n",
       "<tr>\n",
       "  <th>Time:</th>                 <td>13:16:13</td>     <th>  Log-Likelihood:    </th> <td> -234.61</td>\n",
       "</tr>\n",
       "<tr>\n",
       "  <th>No. Observations:</th>      <td>    35</td>      <th>  AIC:               </th> <td>   473.2</td>\n",
       "</tr>\n",
       "<tr>\n",
       "  <th>Df Residuals:</th>          <td>    33</td>      <th>  BIC:               </th> <td>   476.3</td>\n",
       "</tr>\n",
       "<tr>\n",
       "  <th>Df Model:</th>              <td>     1</td>      <th>                     </th>     <td> </td>   \n",
       "</tr>\n",
       "<tr>\n",
       "  <th>Covariance Type:</th>      <td>nonrobust</td>    <th>                     </th>     <td> </td>   \n",
       "</tr>\n",
       "</table>\n",
       "<table class=\"simpletable\">\n",
       "<tr>\n",
       "        <td></td>           <th>coef</th>     <th>std err</th>      <th>t</th>      <th>P>|t|</th>  <th>[0.025</th>    <th>0.975]</th>  \n",
       "</tr>\n",
       "<tr>\n",
       "  <th>const</th>         <td>   16.6036</td> <td>   78.141</td> <td>    0.212</td> <td> 0.833</td> <td> -142.375</td> <td>  175.582</td>\n",
       "</tr>\n",
       "<tr>\n",
       "  <th>circumference</th> <td>    7.8160</td> <td>    0.606</td> <td>   12.900</td> <td> 0.000</td> <td>    6.583</td> <td>    9.049</td>\n",
       "</tr>\n",
       "</table>\n",
       "<table class=\"simpletable\">\n",
       "<tr>\n",
       "  <th>Omnibus:</th>       <td> 2.473</td> <th>  Durbin-Watson:     </th> <td>   0.956</td>\n",
       "</tr>\n",
       "<tr>\n",
       "  <th>Prob(Omnibus):</th> <td> 0.290</td> <th>  Jarque-Bera (JB):  </th> <td>   2.200</td>\n",
       "</tr>\n",
       "<tr>\n",
       "  <th>Skew:</th>          <td> 0.591</td> <th>  Prob(JB):          </th> <td>   0.333</td>\n",
       "</tr>\n",
       "<tr>\n",
       "  <th>Kurtosis:</th>      <td> 2.667</td> <th>  Cond. No.          </th> <td>    294.</td>\n",
       "</tr>\n",
       "</table><br/><br/>Notes:<br/>[1] Standard Errors assume that the covariance matrix of the errors is correctly specified."
      ],
      "text/plain": [
       "<class 'statsmodels.iolib.summary.Summary'>\n",
       "\"\"\"\n",
       "                            OLS Regression Results                            \n",
       "==============================================================================\n",
       "Dep. Variable:                    age   R-squared:                       0.835\n",
       "Model:                            OLS   Adj. R-squared:                  0.830\n",
       "Method:                 Least Squares   F-statistic:                     166.4\n",
       "Date:                Tue, 26 Oct 2021   Prob (F-statistic):           1.93e-14\n",
       "Time:                        13:16:13   Log-Likelihood:                -234.61\n",
       "No. Observations:                  35   AIC:                             473.2\n",
       "Df Residuals:                      33   BIC:                             476.3\n",
       "Df Model:                           1                                         \n",
       "Covariance Type:            nonrobust                                         \n",
       "=================================================================================\n",
       "                    coef    std err          t      P>|t|      [0.025      0.975]\n",
       "---------------------------------------------------------------------------------\n",
       "const            16.6036     78.141      0.212      0.833    -142.375     175.582\n",
       "circumference     7.8160      0.606     12.900      0.000       6.583       9.049\n",
       "==============================================================================\n",
       "Omnibus:                        2.473   Durbin-Watson:                   0.956\n",
       "Prob(Omnibus):                  0.290   Jarque-Bera (JB):                2.200\n",
       "Skew:                           0.591   Prob(JB):                        0.333\n",
       "Kurtosis:                       2.667   Cond. No.                         294.\n",
       "==============================================================================\n",
       "\n",
       "Notes:\n",
       "[1] Standard Errors assume that the covariance matrix of the errors is correctly specified.\n",
       "\"\"\""
      ]
     },
     "execution_count": 33,
     "metadata": {},
     "output_type": "execute_result"
    },
    {
     "data": {
      "text/html": [
       "<div>\n",
       "<style scoped>\n",
       "    .dataframe tbody tr th:only-of-type {\n",
       "        vertical-align: middle;\n",
       "    }\n",
       "\n",
       "    .dataframe tbody tr th {\n",
       "        vertical-align: top;\n",
       "    }\n",
       "\n",
       "    .dataframe thead th {\n",
       "        text-align: right;\n",
       "    }\n",
       "</style>\n",
       "<table border=\"1\" class=\"dataframe\">\n",
       "  <thead>\n",
       "    <tr style=\"text-align: right;\">\n",
       "      <th></th>\n",
       "      <th>const</th>\n",
       "      <th>circumference</th>\n",
       "    </tr>\n",
       "  </thead>\n",
       "  <tbody>\n",
       "    <tr>\n",
       "      <th>0</th>\n",
       "      <td>1.0</td>\n",
       "      <td>30</td>\n",
       "    </tr>\n",
       "    <tr>\n",
       "      <th>1</th>\n",
       "      <td>1.0</td>\n",
       "      <td>58</td>\n",
       "    </tr>\n",
       "    <tr>\n",
       "      <th>2</th>\n",
       "      <td>1.0</td>\n",
       "      <td>87</td>\n",
       "    </tr>\n",
       "    <tr>\n",
       "      <th>3</th>\n",
       "      <td>1.0</td>\n",
       "      <td>115</td>\n",
       "    </tr>\n",
       "    <tr>\n",
       "      <th>4</th>\n",
       "      <td>1.0</td>\n",
       "      <td>120</td>\n",
       "    </tr>\n",
       "  </tbody>\n",
       "</table>\n",
       "</div>"
      ],
      "text/plain": [
       "   const  circumference\n",
       "0    1.0             30\n",
       "1    1.0             58\n",
       "2    1.0             87\n",
       "3    1.0            115\n",
       "4    1.0            120"
      ]
     },
     "execution_count": 33,
     "metadata": {},
     "output_type": "execute_result"
    },
    {
     "data": {
      "text/plain": [
       "4.4662686247777724e-13"
      ]
     },
     "execution_count": 33,
     "metadata": {},
     "output_type": "execute_result"
    }
   ],
   "source": [
    "X=df.iloc[:,2]\n",
    "y=df.iloc[:,1]\n",
    "X=sm.add_constant(X)\n",
    "model=sm.OLS(y,X)\n",
    "lr_ols=model.fit()\n",
    "prediction=lr_ols.predict(X)\n",
    "lr_ols.summary()\n",
    "X.head()\n",
    "lr_ols.resid.mean()"
   ]
  },
  {
   "cell_type": "markdown",
   "metadata": {},
   "source": [
    "1.R-squared\t:The coefficient of determination. A statistical measure of how well the regression \n",
    "line approximates the real data points\n",
    "\n",
    "2.Adj. R-squared :\tThe above value adjusted based on the number of observations and the \n",
    "degrees-of-freedom of the residuals\n",
    "\n",
    "3.F-statistic\t:A measure how significant the fit is. The mean squared error of the model divided by the mean squared error of the residuals\n",
    "\n",
    "4.Prob (F-statistic) :The probability that you would get the above statistic, given the null \n",
    "hypothesis that they are unrelated\n",
    "\n",
    "5.Log-likelihood\t:The log of the likelihood function.\n",
    "\n",
    "6.AIC\t:The Akaike Information Criterion. Adjusts the log-likelihood based on the number of \n",
    "observations and the complexity of the model.\n",
    "\n",
    "7.BIC:\tThe Bayesian Information Criterion. Similar to the AIC, but has a higher penalty for \n",
    "models with more parameters."
   ]
  },
  {
   "cell_type": "markdown",
   "metadata": {},
   "source": [
    "1.coef:\tThe estimated value of the coefficient\n",
    "\n",
    "2.std err:\tThe basic standard error of the estimate of the coefficient. More sophisticated \n",
    "errors are also available.\n",
    "\n",
    "3.t\t:The t-statistic value. This is a measure of how statistically significant the coefficient is.\n",
    "\n",
    "4.P > |t|:\tP-value that the null-hypothesis that the coefficient = 0 is true. If it is less \n",
    "than the confidence level, often 0.05, it indicates that there is a statistically significant \n",
    "relationship between the term and the response.\n",
    "\n",
    "5.[95.0% Conf. Interval]:\tThe lower and upper values of the 95% confidence interval  "
   ]
  },
  {
   "cell_type": "markdown",
   "metadata": {},
   "source": [
    "1.Skewness :\tA measure of the symmetry of the data about the mean. Normally-distributed errors \n",
    "    should be symmetrically distributed about the mean (equal amounts above and below the line).\n",
    "    \n",
    "2.Kurtosis:\tA measure of the shape of the distribution. Compares the amount of data close to the\n",
    "    mean with those far away from the mean (in the tails).\n",
    "    \n",
    "3.Omnibus:\tD’Angostino’s test. It provides a combined statistical test for the presence of \n",
    "    skewness and kurtosis.\n",
    "    \n",
    "4.Prob(Omnibus):\tThe above statistic turned into a probability\n",
    "\n",
    "5.Jarque-Bera:\tA different test of the skewness and kurtosis\n",
    "\n",
    "6.Prob (JB):The above statistic turned into a probability\n",
    "\n",
    "7.Durbin-Watson\t:A test for the presence of autocorrelation (that the errors are not independent.) Often important in time-series analysis\n",
    "\n",
    "8.Cond. No\t: A test for multicollinearity (if in a fit with multiple parameters, the parameters are related with each other)."
   ]
  },
  {
   "cell_type": "code",
   "execution_count": 34,
   "metadata": {},
   "outputs": [
    {
     "data": {
      "text/plain": [
       "<AxesSubplot:ylabel='Density'>"
      ]
     },
     "execution_count": 34,
     "metadata": {},
     "output_type": "execute_result"
    },
    {
     "data": {
      "text/plain": [
       "<AxesSubplot:xlabel='circumference', ylabel='age'>"
      ]
     },
     "execution_count": 34,
     "metadata": {},
     "output_type": "execute_result"
    },
    {
     "data": {
      "image/png": "[encoded data removed]",
      "text/plain": [
       "<Figure size 576x288 with 2 Axes>"
      ]
     },
     "metadata": {
      "needs_background": "light"
     },
     "output_type": "display_data"
    }
   ],
   "source": [
    "fig,axes=plt.subplots(1,2,figsize=(8,4))\n",
    "sns.distplot(lr_ols.resid,ax=axes[0])\n",
    "sns.scatterplot(df.iloc[:,2],df.iloc[:,1],ax=axes[1])\n",
    "axes[1]=plt.plot(X,prediction)"
   ]
  },
  {
   "cell_type": "code",
   "execution_count": 35,
   "metadata": {},
   "outputs": [],
   "source": [
    "def plot_prob(residual):\n",
    "    plt.figure(figsize=(10,4))\n",
    "    plt.subplot(1,2,1)\n",
    "    residual.hist()\n",
    "    plt.subplot(1,2,2)\n",
    "    probplot(residual,dist='norm',plot=pylab)\n",
    "    plt.show() "
   ]
  },
  {
   "cell_type": "markdown",
   "metadata": {},
   "source": [
    "Check for Normality of the residuals using probabaility plot"
   ]
  },
  {
   "cell_type": "code",
   "execution_count": 36,
   "metadata": {},
   "outputs": [
    {
     "data": {
      "image/png": "[encoded data removed]",
      "text/plain": [
       "<Figure size 720x288 with 2 Axes>"
      ]
     },
     "metadata": {
      "needs_background": "light"
     },
     "output_type": "display_data"
    }
   ],
   "source": [
    "plot_prob(lr_ols.resid)"
   ]
  },
  {
   "cell_type": "code",
   "execution_count": 37,
   "metadata": {},
   "outputs": [],
   "source": [
    "def age_prediction(circumference):\n",
    "    x=np.ones(2).flatten()\n",
    "    x[1]=circumference\n",
    "    pred=lr_ols.predict(x)\n",
    "    return pred  "
   ]
  },
  {
   "cell_type": "code",
   "execution_count": 38,
   "metadata": {},
   "outputs": [
    {
     "data": {
      "text/plain": [
       "array([469.9315186])"
      ]
     },
     "execution_count": 38,
     "metadata": {},
     "output_type": "execute_result"
    }
   ],
   "source": [
    "age_prediction(58)"
   ]
  },
  {
   "cell_type": "code",
   "execution_count": 39,
   "metadata": {},
   "outputs": [
    {
     "data": {
      "text/plain": [
       "<AxesSubplot:>"
      ]
     },
     "execution_count": 39,
     "metadata": {},
     "output_type": "execute_result"
    },
    {
     "data": {
      "image/png": "[encoded data removed]",
      "text/plain": [
       "<Figure size 288x288 with 1 Axes>"
      ]
     },
     "metadata": {
      "needs_background": "light"
     },
     "output_type": "display_data"
    }
   ],
   "source": [
    "sns.scatterplot(prediction,lr_ols.resid)"
   ]
  },
  {
   "cell_type": "code",
   "execution_count": 40,
   "metadata": {},
   "outputs": [
    {
     "data": {
      "text/plain": [
       "<statsmodels.regression.linear_model.RegressionResultsWrapper at 0x2667f45b3d0>"
      ]
     },
     "execution_count": 40,
     "metadata": {},
     "output_type": "execute_result"
    },
    {
     "data": {
      "text/plain": [
       "33.0"
      ]
     },
     "execution_count": 40,
     "metadata": {},
     "output_type": "execute_result"
    }
   ],
   "source": [
    "import statsmodels.formula.api as fsm\n",
    "f_model=fsm.ols(formula='age ~ circumference',data=df)#formula ='response ~ predictors'\n",
    "f_model.fit()\n",
    "f_model.df_resid"
   ]
  },
  {
   "cell_type": "code",
   "execution_count": null,
   "metadata": {},
   "outputs": [],
   "source": []
  }
 ],
 "metadata": {
  "kernelspec": {
   "display_name": "Python 3",
   "language": "python",
   "name": "python3"
  },
  "language_info": {
   "codemirror_mode": {
    "name": "ipython",
    "version": 3
   },
   "file_extension": ".py",
   "mimetype": "text/x-python",
   "name": "python",
   "nbconvert_exporter": "python",
   "pygments_lexer": "ipython3",
   "version": "3.8.5"
  }
 },
 "nbformat": 4,
 "nbformat_minor": 4
}
